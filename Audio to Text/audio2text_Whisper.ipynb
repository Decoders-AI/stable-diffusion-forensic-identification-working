{
  "nbformat": 4,
  "nbformat_minor": 0,
  "metadata": {
    "colab": {
      "provenance": []
    },
    "kernelspec": {
      "name": "python3",
      "display_name": "Python 3"
    },
    "language_info": {
      "name": "python"
    }
  },
  "cells": [
    {
      "cell_type": "markdown",
      "source": [
        "Install the Hugging Face Transformers library directly from its GitHub repository, in quiet mode"
      ],
      "metadata": {
        "id": "sT3rM3XszpWS"
      }
    },
    {
      "cell_type": "code",
      "source": [
        "! pip install git+https://github.com/huggingface/transformers -q"
      ],
      "metadata": {
        "colab": {
          "base_uri": "https://localhost:8080/"
        },
        "id": "Oh2T71bWznYJ",
        "outputId": "38e09dce-7932-481d-b852-46fc7b1d03ac"
      },
      "execution_count": 1,
      "outputs": [
        {
          "output_type": "stream",
          "name": "stdout",
          "text": [
            "  Installing build dependencies ... \u001b[?25l\u001b[?25hdone\n",
            "  Getting requirements to build wheel ... \u001b[?25l\u001b[?25hdone\n",
            "  Preparing metadata (pyproject.toml) ... \u001b[?25l\u001b[?25hdone\n",
            "  Building wheel for transformers (pyproject.toml) ... \u001b[?25l\u001b[?25hdone\n"
          ]
        }
      ]
    },
    {
      "cell_type": "markdown",
      "source": [
        "Download an audio file from the specified URL and save it as audio.mp3\n"
      ],
      "metadata": {
        "id": "3q8N65JSzPhK"
      }
    },
    {
      "cell_type": "code",
      "source": [
        "!wget -O audio.mp3 http://www.moviesoundclips.net/movies1/darkknight/criminal.mp3  # Chnage this URL with the front end voice file conataing"
      ],
      "metadata": {
        "colab": {
          "base_uri": "https://localhost:8080/"
        },
        "id": "lwYbFFgHz6tz",
        "outputId": "168b099f-9beb-412c-c44e-9d8c1bbb340f"
      },
      "execution_count": 2,
      "outputs": [
        {
          "output_type": "stream",
          "name": "stdout",
          "text": [
            "--2024-05-30 04:47:50--  http://www.moviesoundclips.net/movies1/darkknight/criminal.mp3\n",
            "Resolving www.moviesoundclips.net (www.moviesoundclips.net)... 198.54.115.219\n",
            "Connecting to www.moviesoundclips.net (www.moviesoundclips.net)|198.54.115.219|:80... connected.\n",
            "HTTP request sent, awaiting response... 200 OK\n",
            "Length: 42780 (42K) [audio/mpeg]\n",
            "Saving to: ‘audio.mp3’\n",
            "\n",
            "audio.mp3           100%[===================>]  41.78K  --.-KB/s    in 0.04s   \n",
            "\n",
            "2024-05-30 04:47:50 (1.00 MB/s) - ‘audio.mp3’ saved [42780/42780]\n",
            "\n"
          ]
        }
      ]
    },
    {
      "cell_type": "code",
      "source": [
        "# Import the pipeline function from the transformers library\n",
        "from transformers import pipeline"
      ],
      "metadata": {
        "id": "HmsAjRcA0T5m"
      },
      "execution_count": 3,
      "outputs": []
    },
    {
      "cell_type": "code",
      "source": [
        "whisper = pipeline('automatic-speech-recognition', model = 'openai/whisper-medium')"
      ],
      "metadata": {
        "colab": {
          "base_uri": "https://localhost:8080/"
        },
        "id": "332L-5on0VfS",
        "outputId": "32bf7b1e-9df0-49cc-d1e2-0facac0fa5d1"
      },
      "execution_count": 5,
      "outputs": [
        {
          "output_type": "stream",
          "name": "stderr",
          "text": [
            "Special tokens have been added in the vocabulary, make sure the associated word embeddings are fine-tuned or trained.\n"
          ]
        }
      ]
    },
    {
      "cell_type": "code",
      "source": [
        "text = whisper('audio.mp3')"
      ],
      "metadata": {
        "colab": {
          "base_uri": "https://localhost:8080/"
        },
        "id": "Q__ukw4x0ap7",
        "outputId": "3c3d14e2-e334-4f14-e5a8-009d84e36815"
      },
      "execution_count": 6,
      "outputs": [
        {
          "output_type": "stream",
          "name": "stderr",
          "text": [
            "/usr/local/lib/python3.10/dist-packages/transformers/models/whisper/generation_whisper.py:480: FutureWarning: The input name `inputs` is deprecated. Please make sure to use `input_features` instead.\n",
            "  warnings.warn(\n",
            "Due to a bug fix in https://github.com/huggingface/transformers/pull/28687 transcription using a multilingual Whisper will default to language detection followed by transcription instead of translation to English.This might be a breaking change for your use case. If you want to instead always translate your audio to English, make sure to pass `language='en'`.\n"
          ]
        }
      ]
    },
    {
      "cell_type": "code",
      "source": [
        "text"
      ],
      "metadata": {
        "colab": {
          "base_uri": "https://localhost:8080/"
        },
        "id": "bZAZK5AP0ehM",
        "outputId": "3c5f69cc-f4f1-4e0d-c354-b8bc7aec4599"
      },
      "execution_count": 7,
      "outputs": [
        {
          "output_type": "execute_result",
          "data": {
            "text/plain": [
              "{'text': \" This town deserves a better class of crew. And I'm gonna give it to them.\"}"
            ]
          },
          "metadata": {},
          "execution_count": 7
        }
      ]
    }
  ]
}